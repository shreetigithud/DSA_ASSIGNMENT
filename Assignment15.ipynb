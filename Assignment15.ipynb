{
 "cells": [
  {
   "cell_type": "markdown",
   "id": "8b264b04",
   "metadata": {},
   "source": [
    "# <aside>\n",
    "💡 **Question 1**\n",
    "\n",
    "Given an array **arr[ ]** of size **N** having elements, the task is to find the next greater element for each element of the array in order of their appearance in the array.Next greater element of an element in the array is the nearest element on the right which is greater than the current element.If there does not exist next greater of current element, then next greater element for current element is -1. For example, next greater of the last element is always -1.\n",
    "\n",
    "**Example 1:**\n",
    "Input:\n",
    "N = 4, arr[] = [1 3 2 4]\n",
    "Output:\n",
    "3 4 4 -1\n",
    "Explanation:\n",
    "In the array, the next larger element\n",
    "to 1 is 3 , 3 is 4 , 2 is 4 and for 4 ?\n",
    "since it doesn't exist, it is -1.\n",
    "Example 2:\n",
    "Input: n = 6\n",
    "a = {1, 5, 0, 3, 4, 5}\n",
    "Output: -1 1 -1 0 3 4\n",
    "Explaination: Upto 3 it is easy to see\n",
    "the smaller numbers. But for 4 the smaller\n",
    "numbers are 1, 0 and 3. But among them 3\n",
    "is closest. Similary for 5 it is 4."
   ]
  },
  {
   "cell_type": "code",
   "execution_count": 1,
   "id": "4d2d6a08",
   "metadata": {},
   "outputs": [
    {
     "name": "stdout",
     "output_type": "stream",
     "text": [
      "[3, 4, 4, -1]\n",
      "[5, -1, 3, 4, 5, -1]\n"
     ]
    }
   ],
   "source": [
    "def nextGreaterElements(arr):\n",
    "    n = len(arr)\n",
    "    stack = []\n",
    "    result = []\n",
    "\n",
    "    for i in range(n - 1, -1, -1):\n",
    "        while stack and stack[-1] <= arr[i]:\n",
    "            stack.pop()\n",
    "\n",
    "        if not stack:\n",
    "            result.append(-1)\n",
    "        else:\n",
    "            result.append(stack[-1])\n",
    "\n",
    "        stack.append(arr[i])\n",
    "\n",
    "    result.reverse()\n",
    "    return result\n",
    "\n",
    "\n",
    "# Example usage\n",
    "arr = [1, 3, 2, 4]\n",
    "print(nextGreaterElements(arr))  \n",
    "\n",
    "arr = [1, 5, 0, 3, 4, 5]\n",
    "print(nextGreaterElements(arr))  \n"
   ]
  },
  {
   "cell_type": "code",
   "execution_count": null,
   "id": "d1be5b24",
   "metadata": {},
   "outputs": [],
   "source": [
    "💡 **Question 2**\n",
    "\n",
    "Given an array **a** of integers of length **n**, find the nearest smaller number for every element such that the smaller element is on left side.If no small element present on the left print -1.\n",
    "\n",
    "**Example 1:**\n",
    "Input: n = 3\n",
    "a = {1, 6, 2}\n",
    "Output: -1 1 1\n",
    "Explaination: There is no number at the\n",
    "left of 1. Smaller number than 6 and 2 is 1.\n",
    "Example 2 \n",
    "Input: n = 6\n",
    "a = {1, 5, 0, 3, 4, 5}\n",
    "Output: -1 1 -1 0 3 4\n",
    "Explaination: Upto 3 it is easy to see\n",
    "the smaller numbers. But for 4 the smaller\n",
    "numbers are 1, 0 and 3. But among them 3\n",
    "is closest. Similary for 5 it is 4."
   ]
  },
  {
   "cell_type": "code",
   "execution_count": 2,
   "id": "1d610e8c",
   "metadata": {},
   "outputs": [
    {
     "name": "stdout",
     "output_type": "stream",
     "text": [
      "[-1, 1, 1]\n",
      "[-1, 1, -1, 0, 3, 4]\n"
     ]
    }
   ],
   "source": [
    "def nearestSmallerOnLeft(a):\n",
    "    n = len(a)\n",
    "    stack = []\n",
    "    result = []\n",
    "\n",
    "    for i in range(n):\n",
    "        while stack and stack[-1] >= a[i]:\n",
    "            stack.pop()\n",
    "\n",
    "        if not stack:\n",
    "            result.append(-1)\n",
    "        else:\n",
    "            result.append(stack[-1])\n",
    "\n",
    "        stack.append(a[i])\n",
    "\n",
    "    return result\n",
    "\n",
    "\n",
    "# Example usage\n",
    "a = [1, 6, 2]\n",
    "print(nearestSmallerOnLeft(a))  # Output: [-1, 1, 1]\n",
    "\n",
    "a = [1, 5, 0, 3, 4, 5]\n",
    "print(nearestSmallerOnLeft(a))  # Output: [-1, 1, -1, 0, 3, 4]\n"
   ]
  },
  {
   "cell_type": "code",
   "execution_count": null,
   "id": "7f003a0a",
   "metadata": {},
   "outputs": [],
   "source": [
    "<aside>\n",
    "💡 **Question 3**\n",
    "\n",
    "Implement a Stack using two queues **q1** and **q2**.\n",
    "\n",
    "**Example 1:**\n",
    "Input:\n",
    "push(2)\n",
    "push(3)\n",
    "pop()\n",
    "push(4)\n",
    "pop()\n",
    "Output:3 4\n",
    "Explanation:\n",
    "push(2) the stack will be {2}\n",
    "push(3) the stack will be {2 3}\n",
    "pop()   poped element will be 3 the\n",
    "        stack will be {2}\n",
    "push(4) the stack will be {2 4}\n",
    "pop()   poped element will be 4\n",
    "Example 2\n",
    "Input:\n",
    "push(2)\n",
    "pop()\n",
    "pop()\n",
    "push(3)\n",
    "Output:2 -1"
   ]
  },
  {
   "cell_type": "code",
   "execution_count": 3,
   "id": "f5b0e706",
   "metadata": {},
   "outputs": [
    {
     "name": "stdout",
     "output_type": "stream",
     "text": [
      "3\n",
      "4\n",
      "2\n",
      "-1\n",
      "3\n"
     ]
    }
   ],
   "source": [
    "class Stack:\n",
    "    def __init__(self):\n",
    "        self.q1 = []\n",
    "        self.q2 = []\n",
    "\n",
    "    def push(self, x):\n",
    "        self.q1.append(x)\n",
    "\n",
    "    def pop(self):\n",
    "        if not self.q1:\n",
    "            return -1\n",
    "\n",
    "        while len(self.q1) > 1:\n",
    "            self.q2.append(self.q1.pop(0))\n",
    "\n",
    "        element = self.q1.pop(0)\n",
    "\n",
    "        self.q1, self.q2 = self.q2, self.q1\n",
    "\n",
    "        return element\n",
    "\n",
    "    def top(self):\n",
    "        if not self.q1:\n",
    "            return -1\n",
    "\n",
    "        while len(self.q1) > 1:\n",
    "            self.q2.append(self.q1.pop(0))\n",
    "\n",
    "        element = self.q1[0]\n",
    "        self.q2.append(self.q1.pop(0))\n",
    "\n",
    "        self.q1, self.q2 = self.q2, self.q1\n",
    "\n",
    "        return element\n",
    "\n",
    "    def empty(self):\n",
    "        return len(self.q1) == 0 and len(self.q2) == 0\n",
    "\n",
    "\n",
    "# Example usage\n",
    "stack = Stack()\n",
    "stack.push(2)\n",
    "stack.push(3)\n",
    "print(stack.pop())  \n",
    "stack.push(4)\n",
    "print(stack.pop())  \n",
    "\n",
    "stack = Stack()\n",
    "stack.push(2)\n",
    "print(stack.pop())  \n",
    "print(stack.pop())  \n",
    "stack.push(3)\n",
    "print(stack.top())  \n"
   ]
  },
  {
   "cell_type": "code",
   "execution_count": null,
   "id": "241978f2",
   "metadata": {},
   "outputs": [],
   "source": [
    "<aside>\n",
    "💡 **Question 4**\n",
    "\n",
    "You are given a stack **St**. You have to reverse the stack using recursion.\n",
    "\n",
    "**Example 1:**\n",
    "Input:St = {3,2,1,7,6}\n",
    "Output:{6,7,1,2,3}\n",
    "Example 2\n",
    "Input:St = {4,3,9,6}\n",
    "Output:{6,9,3,4}"
   ]
  },
  {
   "cell_type": "code",
   "execution_count": 4,
   "id": "d8f79499",
   "metadata": {},
   "outputs": [
    {
     "name": "stdout",
     "output_type": "stream",
     "text": [
      "[6, 7, 1, 2, 3]\n",
      "[6, 9, 3, 4]\n"
     ]
    }
   ],
   "source": [
    "def reverseStack(stack):\n",
    "    if len(stack) <= 1:\n",
    "        return stack\n",
    "\n",
    "    top = stack.pop()\n",
    "    reversedStack = reverseStack(stack)\n",
    "    insertAtBottom(reversedStack, top)\n",
    "\n",
    "    return reversedStack\n",
    "\n",
    "\n",
    "def insertAtBottom(stack, item):\n",
    "    if len(stack) == 0:\n",
    "        stack.append(item)\n",
    "    else:\n",
    "        top = stack.pop()\n",
    "        insertAtBottom(stack, item)\n",
    "        stack.append(top)\n",
    "\n",
    "\n",
    "# Example usage\n",
    "stack = [3, 2, 1, 7, 6]\n",
    "reversedStack = reverseStack(stack)\n",
    "print(reversedStack)  \n",
    "\n",
    "stack = [4, 3, 9, 6]\n",
    "reversedStack = reverseStack(stack)\n",
    "print(reversedStack)  \n"
   ]
  },
  {
   "cell_type": "code",
   "execution_count": null,
   "id": "e6a71642",
   "metadata": {},
   "outputs": [],
   "source": [
    "<aside>\n",
    "💡 **Question 5**\n",
    "\n",
    "You are given a string **S**, the task is to reverse the string using stack.\n",
    "\n",
    "**Example 1:**\n",
    "Input: S=\"GeeksforGeeks\"\n",
    "Output: skeeGrofskeeG"
   ]
  },
  {
   "cell_type": "code",
   "execution_count": 5,
   "id": "0f3f5ccc",
   "metadata": {},
   "outputs": [
    {
     "name": "stdout",
     "output_type": "stream",
     "text": [
      "skeeGrofskeeG\n"
     ]
    }
   ],
   "source": [
    "def reverseString(S):\n",
    "    stack = []\n",
    "    for char in S:\n",
    "        stack.append(char)\n",
    "\n",
    "    reversedString = \"\"\n",
    "    while stack:\n",
    "        reversedString += stack.pop()\n",
    "\n",
    "    return reversedString\n",
    "\n",
    "\n",
    "# Example usage\n",
    "S = \"GeeksforGeeks\"\n",
    "reversedString = reverseString(S)\n",
    "print(reversedString)  \n"
   ]
  },
  {
   "cell_type": "code",
   "execution_count": null,
   "id": "f0a38da3",
   "metadata": {},
   "outputs": [],
   "source": [
    "<aside>\n",
    "💡 **Question 6**\n",
    "\n",
    "Given string **S** representing a postfix expression, the task is to evaluate the expression and find the final value. Operators will only include the basic arithmetic operators like ***, /, + and -**.\n",
    "\n",
    "**Example 1:**\n",
    "Input: S = \"231*+9-\"\n",
    "Output: -4\n",
    "Explanation:\n",
    "After solving the given expression,\n",
    "we have -4 as result.\n",
    "Example2 \n",
    "Input: S = \"123+*8-\"\n",
    "Output: -3\n",
    "Explanation:\n",
    "After solving the given postfix\n",
    "expression, we have -3 as result."
   ]
  },
  {
   "cell_type": "code",
   "execution_count": 6,
   "id": "11976411",
   "metadata": {},
   "outputs": [
    {
     "name": "stdout",
     "output_type": "stream",
     "text": [
      "Output: -4\n"
     ]
    }
   ],
   "source": [
    "def evaluate_postfix(expression):\n",
    "    stack = []\n",
    "\n",
    "    for char in expression:\n",
    "        if char.isdigit():\n",
    "            stack.append(int(char))\n",
    "        else:\n",
    "            operand2 = stack.pop()\n",
    "            operand1 = stack.pop()\n",
    "\n",
    "            if char == '+':\n",
    "                result = operand1 + operand2\n",
    "            elif char == '-':\n",
    "                result = operand1 - operand2\n",
    "            elif char == '*':\n",
    "                result = operand1 * operand2\n",
    "            elif char == '/':\n",
    "                result = operand1 / operand2\n",
    "\n",
    "            stack.append(result)\n",
    "\n",
    "    return stack[0]\n",
    "\n",
    "# Example usage\n",
    "expression = \"231*+9-\"\n",
    "result = evaluate_postfix(expression)\n",
    "print(\"Output:\", result)  # Output: -4\n"
   ]
  },
  {
   "cell_type": "code",
   "execution_count": null,
   "id": "9f3fb5ce",
   "metadata": {},
   "outputs": [],
   "source": [
    "<aside>\n",
    "💡 **Question 7**\n",
    "\n",
    "Design a stack that supports push, pop, top, and retrieving the minimum element in constant time.\n",
    "\n",
    "Implement the `MinStack` class:\n",
    "\n",
    "- `MinStack()` initializes the stack object.\n",
    "- `void push(int val)` pushes the element `val` onto the stack.\n",
    "- `void pop()` removes the element on the top of the stack.\n",
    "- `int top()` gets the top element of the stack.\n",
    "- `int getMin()` retrieves the minimum element in the stack.\n",
    "\n",
    "You must implement a solution with `O(1)` time complexity for each function.\n",
    "\n",
    "**Example 1:**\n",
    "Input\n",
    "[\"MinStack\",\"push\",\"push\",\"push\",\"getMin\",\"pop\",\"top\",\"getMin\"]\n",
    "[[],[-2],[0],[-3],[],[],[],[]]\n",
    "\n",
    "Output\n",
    "[null,null,null,null,-3,null,0,-2]\n",
    "\n",
    "Explanation\n",
    "MinStack minStack = new MinStack();\n",
    "minStack.push(-2);\n",
    "minStack.push(0);\n",
    "minStack.push(-3);\n",
    "minStack.getMin(); // return -3\n",
    "minStack.pop();\n",
    "minStack.top();    // return 0\n",
    "minStack.getMin(); // return -2"
   ]
  },
  {
   "cell_type": "code",
   "execution_count": 7,
   "id": "abb65ba4",
   "metadata": {},
   "outputs": [
    {
     "name": "stdout",
     "output_type": "stream",
     "text": [
      "-3\n",
      "0\n",
      "-2\n"
     ]
    }
   ],
   "source": [
    "class MinStack:\n",
    "    def __init__(self):\n",
    "        self.stack = []  # stack to store the elements\n",
    "        self.min_stack = []  # stack to store the minimum elements\n",
    "\n",
    "    def push(self, val):\n",
    "        self.stack.append(val)\n",
    "\n",
    "        if not self.min_stack or val <= self.min_stack[-1]:\n",
    "            self.min_stack.append(val)\n",
    "\n",
    "    def pop(self):\n",
    "        if self.stack:\n",
    "            val = self.stack.pop()\n",
    "\n",
    "            if val == self.min_stack[-1]:\n",
    "                self.min_stack.pop()\n",
    "\n",
    "    def top(self):\n",
    "        if self.stack:\n",
    "            return self.stack[-1]\n",
    "\n",
    "    def getMin(self):\n",
    "        if self.min_stack:\n",
    "            return self.min_stack[-1]\n",
    "# Example 1\n",
    "min_stack = MinStack()\n",
    "min_stack.push(-2)\n",
    "min_stack.push(0)\n",
    "min_stack.push(-3)\n",
    "print(min_stack.getMin())  \n",
    "min_stack.pop()\n",
    "print(min_stack.top())     \n",
    "print(min_stack.getMin)\n"
   ]
  },
  {
   "cell_type": "code",
   "execution_count": null,
   "id": "d229bce1",
   "metadata": {},
   "outputs": [],
   "source": [
    "\n",
    "💡 **Question 8**\n",
    "\n",
    "Given `n` non-negative integers representing an elevation map where the width of each bar is `1`, compute how much water it can trap after raining.\n",
    "\n",
    "**Example 1:**\n",
    "Input: height = [0,1,0,2,1,0,1,3,2,1,2,1]\n",
    "Output: 6\n",
    "Explanation: The above elevation map (black section) is represented by array [0,1,0,2,1,0,1,3,2,1,2,1]. In this case, 6 units of rain water (blue section) are being trapped.\n",
    "Example 2\n",
    "Input: height = [4,2,0,3,2,5]\n",
    "Output: 9"
   ]
  },
  {
   "cell_type": "code",
   "execution_count": 8,
   "id": "9709152c",
   "metadata": {},
   "outputs": [
    {
     "name": "stdout",
     "output_type": "stream",
     "text": [
      "6\n",
      "9\n"
     ]
    }
   ],
   "source": [
    "def trap(height):\n",
    "    if not height:\n",
    "        return 0\n",
    "\n",
    "    left = 0\n",
    "    right = len(height) - 1\n",
    "    left_max = right_max = 0\n",
    "    water = 0\n",
    "\n",
    "    while left < right:\n",
    "        if height[left] < height[right]:\n",
    "            if height[left] >= left_max:\n",
    "                left_max = height[left]\n",
    "            else:\n",
    "                water += left_max - height[left]\n",
    "            left += 1\n",
    "        else:\n",
    "            if height[right] >= right_max:\n",
    "                right_max = height[right]\n",
    "            else:\n",
    "                water += right_max - height[right]\n",
    "            right -= 1\n",
    "\n",
    "    return water\n",
    "# Example 1\n",
    "height = [0, 1, 0, 2, 1, 0, 1, 3, 2, 1, 2, 1]\n",
    "print(trap(height))  \n",
    "\n",
    "# Example 2\n",
    "height = [4, 2, 0, 3, 2, 5]\n",
    "print(trap(height))  \n"
   ]
  },
  {
   "cell_type": "code",
   "execution_count": null,
   "id": "2ac8059b",
   "metadata": {},
   "outputs": [],
   "source": []
  }
 ],
 "metadata": {
  "kernelspec": {
   "display_name": "Python 3 (ipykernel)",
   "language": "python",
   "name": "python3"
  },
  "language_info": {
   "codemirror_mode": {
    "name": "ipython",
    "version": 3
   },
   "file_extension": ".py",
   "mimetype": "text/x-python",
   "name": "python",
   "nbconvert_exporter": "python",
   "pygments_lexer": "ipython3",
   "version": "3.10.9"
  }
 },
 "nbformat": 4,
 "nbformat_minor": 5
}
